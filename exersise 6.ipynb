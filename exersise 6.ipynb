{
 "cells": [
  {
   "cell_type": "code",
   "execution_count": 4,
   "metadata": {},
   "outputs": [
    {
     "name": "stdout",
     "output_type": "stream",
     "text": [
      "Enter the number : 4\n",
      "Factorial of number 4 is : 24\n"
     ]
    }
   ],
   "source": [
    "#factorial of any number\n",
    "num=int(input(\"Enter the number : \"))\n",
    "temp=num\n",
    "f=1\n",
    "while (temp>0):\n",
    "    f=f*temp\n",
    "    temp=temp-1\n",
    "print(\"Factorial of number\",num,\"is :\",f)"
   ]
  },
  {
   "cell_type": "code",
   "execution_count": 26,
   "metadata": {},
   "outputs": [
    {
     "name": "stdout",
     "output_type": "stream",
     "text": [
      "enter the limit : 4\n",
      "Fibanocci series is : \n",
      "0\n",
      "1\n",
      "1\n",
      "2\n"
     ]
    }
   ],
   "source": [
    "#Fibanocci series \n",
    "n=int(input(\"enter the limit : \"))\n",
    "a=0\n",
    "c=0\n",
    "d=0\n",
    "b=1\n",
    "print(\"Fibanocci series is : \")\n",
    "while (d<n):\n",
    "      print(c)\n",
    "      a=b\n",
    "      b=c\n",
    "      c=a+b\n",
    "      d=d+1\n",
    "     "
   ]
  },
  {
   "cell_type": "code",
   "execution_count": 30,
   "metadata": {},
   "outputs": [
    {
     "name": "stdout",
     "output_type": "stream",
     "text": [
      "Enter First number : 5\n",
      "Enter Second number : 10\n",
      "The gretest common divisor of 5 and 10 is : 5\n"
     ]
    }
   ],
   "source": [
    "#common divisor of 2 integers\n",
    "num1=int(input(\"Enter First number : \"))\n",
    "num2=int(input(\"Enter Second number : \"))\n",
    "if num1<num2:\n",
    "    m=num1\n",
    "else:\n",
    "    m=num2\n",
    "while m>0:\n",
    "    if(num1%m==0)and(num2%m==0):\n",
    "        print(\"The gretest common divisor of\",num1,\"and\",num2,\"is :\",m)\n",
    "        break\n",
    "    m=m-1"
   ]
  },
  {
   "cell_type": "code",
   "execution_count": 1,
   "metadata": {},
   "outputs": [
    {
     "name": "stdout",
     "output_type": "stream",
     "text": [
      "Enter a number : 3\n",
      "The pyramid is :\n",
      "1 \n",
      "\n",
      "2 4 \n",
      "\n",
      "3 6 9 \n",
      "\n"
     ]
    }
   ],
   "source": [
    "#pyramid of multiplies\n",
    "n=int(input(\"Enter a number : \"))\n",
    "print(\"The pyramid is :\")\n",
    "for i in range(1,n+1):\n",
    "    for j in range(1,i+1):\n",
    "        print(i*j,end=\" \")\n",
    "    print(\"\\n\")"
   ]
  },
  {
   "cell_type": "code",
   "execution_count": 8,
   "metadata": {},
   "outputs": [
    {
     "name": "stdout",
     "output_type": "stream",
     "text": [
      "enter some comma seperated numbers:1,2,3,4,5\n",
      "sum of the elements of the list ['1', '2', '3', '4', '5'] is : 15\n"
     ]
    }
   ],
   "source": [
    "#sum of elements of a list\n",
    "str=input(\"enter some comma seperated numbers:\")\n",
    "l=str.split(\",\")\n",
    "s=i=0\n",
    "for i in l:\n",
    "    s=s+int(i)\n",
    "print(\"sum of the elements of the list\",l,\"is :\",s)"
   ]
  },
  {
   "cell_type": "code",
   "execution_count": 11,
   "metadata": {},
   "outputs": [
    {
     "name": "stdout",
     "output_type": "stream",
     "text": [
      "enter a number :6\n",
      "the factors of thr given number 6 are:\n",
      "6   3   2   1   "
     ]
    }
   ],
   "source": [
    "#factors of number\n",
    "num=int(input(\"enter a number :\"))\n",
    "i=num\n",
    "print(\"the factors of the given number\",num,\"are:\")\n",
    "while i>0:\n",
    "    if(num%i==0):\n",
    "        print(i,\" \",end=\" \")\n",
    "    i=i-1"
   ]
  },
  {
   "cell_type": "code",
   "execution_count": 14,
   "metadata": {},
   "outputs": [
    {
     "name": "stdout",
     "output_type": "stream",
     "text": [
      "* \n",
      "\n",
      "* * \n",
      "\n",
      "* * * \n",
      "\n",
      "* * * * \n",
      "\n",
      "* * * * * \n",
      "\n",
      "* * * * \n",
      "\n",
      "* * * \n",
      "\n",
      "* * \n",
      "\n",
      "* \n",
      "\n"
     ]
    }
   ],
   "source": [
    "#star pattern\n",
    "for i in range(0,4):\n",
    "    for j in range(0,i+1):\n",
    "        print(\"*\",end=\" \")\n",
    "    print(\"\\n\")\n",
    "for i in range(4,-1,-1):\n",
    "    for j in range(0,i+1):\n",
    "        print(\"*\",end=\" \")\n",
    "    print(\"\\n\")"
   ]
  },
  {
   "cell_type": "code",
   "execution_count": 26,
   "metadata": {},
   "outputs": [
    {
     "name": "stdout",
     "output_type": "stream",
     "text": [
      "enter a string :tree\n",
      "the frequency of characters of endered string is:\n",
      "t- 1\n",
      "r- 1\n",
      "e- 2\n"
     ]
    }
   ],
   "source": [
    "# frequency of characters of a string\n",
    "str=input(\"enter a string :\")\n",
    "l=len(str)\n",
    "temp=str\n",
    "f=[None]*l\n",
    "for i in range(l):\n",
    "   f[i]=1\n",
    "   for j in range(i+1,l):\n",
    "       if(temp[i]==temp[j]):\n",
    "           f[i]=f[i]+1\n",
    "           temp=temp[:j]+'0'+temp[j+1:]\n",
    "print(\"the frequency of characters of endered string is:\")\n",
    "for i in range(0,len(f)):\n",
    "    if(temp[i]!=''and temp[i]!='0'):\n",
    "         print(temp[i]+\"-\",f[i]);"
   ]
  },
  {
   "cell_type": "code",
   "execution_count": null,
   "metadata": {
    "collapsed": true
   },
   "outputs": [],
   "source": []
  }
 ],
 "metadata": {
  "kernelspec": {
   "display_name": "Python 3",
   "language": "python",
   "name": "python3"
  },
  "language_info": {
   "codemirror_mode": {
    "name": "ipython",
    "version": 3
   },
   "file_extension": ".py",
   "mimetype": "text/x-python",
   "name": "python",
   "nbconvert_exporter": "python",
   "pygments_lexer": "ipython3",
   "version": "3.6.3"
  }
 },
 "nbformat": 4,
 "nbformat_minor": 2
}
