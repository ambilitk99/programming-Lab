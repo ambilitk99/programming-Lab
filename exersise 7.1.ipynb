{
 "cells": [
  {
   "cell_type": "code",
   "execution_count": 2,
   "id": "08734be1",
   "metadata": {},
   "outputs": [
    {
     "name": "stdout",
     "output_type": "stream",
     "text": [
      "Enter the no values to be inserted :2\n",
      "Enter a key value :r\n",
      "Enter a value :3\n",
      "Enter a key value :t\n",
      "Enter a value :4\n",
      "The first dictionary is :  dict_items([('r', '3'), ('t', '4')])\n",
      "Sorting a dictionary in ascending order : [('r', '3'), ('t', '4')]\n",
      "Sorting a dictionary in decending order : [('t', '4'), ('r', '3')]\n"
     ]
    }
   ],
   "source": [
    "#sort dictionary in ascending and decending order\n",
    "n=int(input(\"Enter the no values to be inserted :\"))\n",
    "dict1={}\n",
    "for i in range(n):\n",
    "    k=input(\"Enter a key value :\")\n",
    "    v=input(\"Enter a value :\")\n",
    "    dict1[k]=v\n",
    "print(\"The first dictionary is : \",dict1.items())\n",
    "a=sorted(dict1.items())\n",
    "d=sorted(dict1.items(),reverse=True)\n",
    "print(\"Sorting a dictionary in ascending order :\",a)\n",
    "print(\"Sorting a dictionary in decending order :\",d)"
   ]
  },
  {
   "cell_type": "code",
   "execution_count": 3,
   "id": "4a2d7291",
   "metadata": {},
   "outputs": [
    {
     "name": "stdout",
     "output_type": "stream",
     "text": [
      "Enter the no values to be inserted : 2\n",
      "Enter a key value :a\n",
      "Enter a value :2\n",
      "Enter a key value :d\n",
      "Enter a value :1\n",
      "The first dictionary is :  dict_items([('a', '2'), ('d', '1')])\n",
      "Enter the no values to be inserted : 2\n",
      "Enter a key value :s\n",
      "Enter a value :1\n",
      "Enter a key value :c\n",
      "Enter a value :8\n",
      "The second dictionary is :  dict_items([('s', '1'), ('c', '8')])\n",
      "Merging two  dictionary is :  dict_items([('a', '2'), ('d', '1'), ('s', '1'), ('c', '8')])\n"
     ]
    }
   ],
   "source": [
    "#program for merging two doctionarys\n",
    "n=int(input(\"Enter the no values to be inserted : \"))\n",
    "dict1={}\n",
    "for i in range(n):\n",
    "    k=input(\"Enter a key value :\")\n",
    "    v=input(\"Enter a value :\")\n",
    "    dict1[k]=v\n",
    "print(\"The first dictionary is : \",dict1.items())\n",
    "\n",
    "n=int(input(\"Enter the no values to be inserted : \"))\n",
    "dict2={}\n",
    "for i in range(n):\n",
    "    k=input(\"Enter a key value :\")\n",
    "    v=input(\"Enter a value :\")\n",
    "    dict2[k]=v\n",
    "print(\"The second dictionary is : \",dict2.items())\n",
    "dict1.update(dict2)\n",
    "print(\"Merging two  dictionary is : \",dict1.items())\n"
   ]
  },
  {
   "cell_type": "code",
   "execution_count": null,
   "id": "01ca76cc",
   "metadata": {},
   "outputs": [],
   "source": []
  }
 ],
 "metadata": {
  "kernelspec": {
   "display_name": "Python 3 (ipykernel)",
   "language": "python",
   "name": "python3"
  },
  "language_info": {
   "codemirror_mode": {
    "name": "ipython",
    "version": 3
   },
   "file_extension": ".py",
   "mimetype": "text/x-python",
   "name": "python",
   "nbconvert_exporter": "python",
   "pygments_lexer": "ipython3",
   "version": "3.7.11"
  }
 },
 "nbformat": 4,
 "nbformat_minor": 5
}
