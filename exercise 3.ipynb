{
 "cells": [
  {
   "cell_type": "code",
   "execution_count": 6,
   "metadata": {},
   "outputs": [
    {
     "name": "stdout",
     "output_type": "stream",
     "text": [
      "enter the number: 5\n",
      "enter second number: 9\n",
      "enter the third number: 10\n",
      "the maximum number is: 10\n"
     ]
    }
   ],
   "source": [
    "#program to fing largest 3 number using max()\n",
    "a=int(input(\"enter the number: \"))\n",
    "b=int(input(\"enter second number: \"))\n",
    "c=int(input(\"enter the third number: \"))\n",
    "print(\"the maximum number is:\",max(a,b,c))"
   ]
  },
  {
   "cell_type": "code",
   "execution_count": 3,
   "metadata": {},
   "outputs": [
    {
     "name": "stdout",
     "output_type": "stream",
     "text": [
      "enter value kilometer:10\n",
      "the endered value in miles: 6.21371\n"
     ]
    }
   ],
   "source": [
    "#program to find the miles\n",
    "km=float(input(\"enter value kilometer:\"))\n",
    "ratio=0.621371\n",
    "miles=km*ratio\n",
    "print(\"the endered value in miles:\",miles)"
   ]
  },
  {
   "cell_type": "code",
   "execution_count": 4,
   "metadata": {},
   "outputs": [
    {
     "name": "stdout",
     "output_type": "stream",
     "text": [
      "enter the celsius:37\n",
      "the fahrenhit is 98.6\n"
     ]
    }
   ],
   "source": [
    "#program to find the fahrenhit\n",
    "c=float(input(\"enter the celsius:\"))\n",
    "f=((c*9/5)+32)\n",
    "print(\"the fahrenhit is\",f)"
   ]
  },
  {
   "cell_type": "code",
   "execution_count": null,
   "metadata": {
    "collapsed": true
   },
   "outputs": [],
   "source": []
  }
 ],
 "metadata": {
  "kernelspec": {
   "display_name": "Python 3",
   "language": "python",
   "name": "python3"
  },
  "language_info": {
   "codemirror_mode": {
    "name": "ipython",
    "version": 3
   },
   "file_extension": ".py",
   "mimetype": "text/x-python",
   "name": "python",
   "nbconvert_exporter": "python",
   "pygments_lexer": "ipython3",
   "version": "3.6.3"
  }
 },
 "nbformat": 4,
 "nbformat_minor": 2
}
