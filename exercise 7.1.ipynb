{
 "cells": [
  {
   "cell_type": "code",
   "execution_count": 2,
   "metadata": {},
   "outputs": [
    {
     "name": "stdout",
     "output_type": "stream",
     "text": [
      "Enter the color in list1:red,green,pink\n",
      "Enter the color in list2:red,blue\n",
      "The colors in list1 which are not present in list2 is: {'pink', 'green'}\n"
     ]
    }
   ],
   "source": [
    "#color list1 not contained in color list2\n",
    "c1=list(map(str,input(\"Enter the color in list1:\").split(\",\")))\n",
    "c2=list(map(str,input(\"Enter the color in list2:\").split(\",\")))\n",
    "a=set(c1+c2)\n",
    "[x for x in a if x in c1]\n",
    "c=set(a-set(c2))\n",
    "print(\"The colors in list1 which are not present in list2 is:\",c)"
   ]
  },
  {
   "cell_type": "code",
   "execution_count": 3,
   "metadata": {},
   "outputs": [
    {
     "name": "stdout",
     "output_type": "stream",
     "text": [
      "Enter the list of integers:100,101,200,99\n",
      "The list of integers is: [100, 'over', 'over', 99]\n"
     ]
    }
   ],
   "source": [
    "#for a list of integers for all value greater than 100 store over load\n",
    "l=list(map(int,input(\"Enter the list of integers:\").split(\",\")))\n",
    "for i in range(len(l)):\n",
    "    if l[i]>100:\n",
    "        l[i]=\"over\"\n",
    "print(\"The list of integers is:\",l)\n"
   ]
  },
  {
   "cell_type": "code",
   "execution_count": 4,
   "metadata": {},
   "outputs": [
    {
     "name": "stdout",
     "output_type": "stream",
     "text": [
      "Enter the list of integers:2,3,-2,-3,4\n",
      "The positive list of numbers are: [2, 3, 4]\n"
     ]
    }
   ],
   "source": [
    "#a generate positive list of numbers from a given list of integers\n",
    "l=list(map(int,input(\"Enter the list of integers:\").split(\",\")))\n",
    "newlist=[x for x in l if x>0]\n",
    "print(\"The positive list of numbers are:\",newlist)\n",
    "\n"
   ]
  },
  {
   "cell_type": "code",
   "execution_count": 5,
   "metadata": {},
   "outputs": [
    {
     "name": "stdout",
     "output_type": "stream",
     "text": [
      "enter n numbers:2,3,4\n",
      "Squares of n numbers are: [4, 9, 16]\n"
     ]
    }
   ],
   "source": [
    "#b square of n numbers\n",
    "l=list(map(int,input(\"enter n numbers:\").split(\",\")))\n",
    "newlist=[x*x for x in l]\n",
    "print(\"Squares of n numbers are:\",newlist)"
   ]
  },
  {
   "cell_type": "code",
   "execution_count": 6,
   "metadata": {},
   "outputs": [
    {
     "name": "stdout",
     "output_type": "stream",
     "text": [
      "Enter the word:apple\n",
      "The list of vowels in the word apple is: ['a', 'e']\n"
     ]
    }
   ],
   "source": [
    "#c form a list of vowels selected from a given word\n",
    "word=input(\"Enter the word:\")\n",
    "vowels=['a','e','i','o','u','A','E','I','O','U']\n",
    "list=[]\n",
    "for x in word:\n",
    "    if (x in vowels and x not in list):\n",
    "        list.append(x)\n",
    "        \n",
    "print(\"The list of vowels in the word\",word,\"is:\",list)\n"
   ]
  },
  {
   "cell_type": "code",
   "execution_count": 7,
   "metadata": {},
   "outputs": [
    {
     "name": "stdout",
     "output_type": "stream",
     "text": [
      "Enter a word:apple\n",
      "The ordinal vaule of each element of the word apple is: [97, 112, 112, 108, 101]\n"
     ]
    }
   ],
   "source": [
    "#d list ordinal value of each element of a word\n",
    "word=input(\"Enter a word:\")\n",
    "newlist=[ord(x) for x in word]\n",
    "print(\"The ordinal vaule of each element of the word\",word,\"is:\",newlist)"
   ]
  },
  {
   "cell_type": "code",
   "execution_count": 8,
   "metadata": {},
   "outputs": [
    {
     "name": "stdout",
     "output_type": "stream",
     "text": [
      "Enter the comma separated names:ambili,apple\n",
      "Number of occurence of a in ambili is: 1\n",
      "Number of occurence of a in apple is: 1\n",
      "Total number of a in list is: 2\n"
     ]
    }
   ],
   "source": [
    "# store a list of names and count occurence of a \n",
    "n=input(\"Enter the comma separated names:\")\n",
    "l=n.split(\",\")\n",
    "t=0\n",
    "for i in l:\n",
    "    print(\"Number of occurence of a in\",i,\"is:\",i.count(\"a\"))\n",
    "    t=t+i.count(\"a\")\n",
    "print(\"Total number of a in list is:\",t)"
   ]
  },
  {
   "cell_type": "code",
   "execution_count": null,
   "metadata": {
    "collapsed": true
   },
   "outputs": [],
   "source": []
  }
 ],
 "metadata": {
  "kernelspec": {
   "display_name": "Python 3",
   "language": "python",
   "name": "python3"
  },
  "language_info": {
   "codemirror_mode": {
    "name": "ipython",
    "version": 3
   },
   "file_extension": ".py",
   "mimetype": "text/x-python",
   "name": "python",
   "nbconvert_exporter": "python",
   "pygments_lexer": "ipython3",
   "version": "3.6.3"
  }
 },
 "nbformat": 4,
 "nbformat_minor": 2
}
