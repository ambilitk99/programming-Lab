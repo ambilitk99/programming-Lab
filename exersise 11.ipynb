{
 "cells": [
  {
   "cell_type": "code",
   "execution_count": 2,
   "id": "8971d546",
   "metadata": {},
   "outputs": [
    {
     "name": "stdout",
     "output_type": "stream",
     "text": [
      "Enter the source file to be copied :myfile.txt\n",
      "Enter the destinaton file name :sky.txt\n",
      "File copied\n"
     ]
    }
   ],
   "source": [
    "#1program to copy a file to another file\n",
    "file1=input(\"Enter the source file to be copied :\")\n",
    "file2=input(\"Enter the destinaton file name :\")\n",
    "fr=open(file1,\"r\")\n",
    "fw=open(file2,\"w\")\n",
    "for line in fr.readlines():\n",
    "    fw.write(line)\n",
    "fr.close()\n",
    "fw.close()\n",
    "print(\"File copied\")"
   ]
  },
  {
   "cell_type": "code",
   "execution_count": 4,
   "id": "a7c2bd21",
   "metadata": {},
   "outputs": [
    {
     "name": "stdout",
     "output_type": "stream",
     "text": [
      "Enter file to be read from: myfile.txt\n",
      "Enter file to be appended to: world\n",
      "File is appended\n"
     ]
    }
   ],
   "source": [
    "#2append a file with another file\n",
    "name1 = input(\"Enter file to be read from: \")\n",
    "name2 = input(\"Enter file to be appended to: \")\n",
    "file = open(name1, \"r\")\n",
    "data2 = file.read()\n",
    "file.close()\n",
    "fout = open(name2, \"a\")\n",
    "fout.write(data2)\n",
    "fout.close()\n",
    "print(\"File is appended\")"
   ]
  },
  {
   "cell_type": "code",
   "execution_count": null,
   "id": "415e7395",
   "metadata": {},
   "outputs": [],
   "source": []
  },
  {
   "cell_type": "code",
   "execution_count": 4,
   "id": "06a4316a",
   "metadata": {},
   "outputs": [
    {
     "name": "stdout",
     "output_type": "stream",
     "text": [
      "Enter the source file name : myworld.txt\n",
      "1\n"
     ]
    }
   ],
   "source": [
    "#3Program to read a file line by line and store it into list and count and display no of lines in a file\n",
    "l=[]\n",
    "file1=input(\"Enter the source file name : \")\n",
    "f1=open(file1,\"r\")\n",
    "for line in f1.readlines():\n",
    "    l.append(line)\n",
    "print(len(l))"
   ]
  },
  {
   "cell_type": "code",
   "execution_count": 3,
   "id": "1dc1e80a",
   "metadata": {},
   "outputs": [
    {
     "name": "stdout",
     "output_type": "stream",
     "text": [
      "Enter the source file name : myhome.txt\n",
      "Enter the desination file name: myworld.txt\n",
      "File copied...\n"
     ]
    }
   ],
   "source": [
    "#4Copy odd lines of one file to other\n",
    "file1=input(\"Enter the source file name : \")\n",
    "file2=input(\"Enter the desination file name: \")\n",
    "f1=open(file1,\"r\")\n",
    "f2=open(file2,\"w\")\n",
    "i=0\n",
    "for line in f1.readlines():\n",
    "    i=i+1\n",
    "    if i%2 ==0:\n",
    "        continue\n",
    "    f2.write(line)\n",
    "f1.close()\n",
    "f2.close()\n",
    "print(\"File copied...\")\n"
   ]
  },
  {
   "cell_type": "code",
   "execution_count": 1,
   "id": "11edbacc",
   "metadata": {},
   "outputs": [
    {
     "name": "stdout",
     "output_type": "stream",
     "text": [
      "Enter new source csv file name : abc.csv\n",
      "Enter coma seperated empid,empname,dptmnt,dob,salary : 1,ambili,sales,1 jan 2022,1000\n",
      "Enter coma seperated empid,empname,dptmnt,dob,salary : 2,amrutha,purcharse,2 jan 2022,2000\n",
      "{'empid': '1', 'empname': 'ambili', 'dptmnt': 'sales', 'dob': '1 jan 2022', 'salary': '1000'}\n",
      "{'empid': '2', 'empname': 'amrutha', 'dptmnt': 'purcharse', 'dob': '2 jan 2022', 'salary': '2000'}\n"
     ]
    }
   ],
   "source": [
    "#5Write a Python dictionary to a csv file. After writing the CSV file read the CSV file and display the content.\n",
    "import csv\n",
    "file1=input(\"Enter new source csv file name : \")\n",
    "with open(file1,\"a+\",newline='') as f1:\n",
    "    empdata=[\"empid\",\"empname\",\"dptmnt\",\"dob\",\"salary\"]\n",
    "    l=[]\n",
    "    writer=csv.DictWriter(f1,fieldnames=empdata)\n",
    "    writer.writeheader()\n",
    "    for i in range(2):\n",
    "        l=list(input(\"Enter coma seperated empid,empname,dptmnt,dob,salary : \").split(\",\"))\n",
    "        writer.writerow({'empid':l[0],'empname':l[1],'dptmnt':l[2],'dob':l[3],'salary':l[4]})\n",
    "        l.clear()\n",
    "with open(file1,'r') as f2:\n",
    "    rdr=csv.DictReader(f2)\n",
    "    for item in rdr:\n",
    "        print(dict(item))"
   ]
  },
  {
   "cell_type": "code",
   "execution_count": 2,
   "id": "d80d8122",
   "metadata": {},
   "outputs": [
    {
     "name": "stdout",
     "output_type": "stream",
     "text": [
      "Enter csv file name with extention csv : abc.csv\n",
      "['empid', 'empname', 'dptmnt', 'dob', 'salary']\n",
      "['1', 'ambili', 'sales', '1 jan 2022', '1000']\n",
      "['2', 'amrutha', 'purcharse', '2 jan 2022', '2000']\n"
     ]
    }
   ],
   "source": [
    "#6Python program to read each row from a given csv file and print a list of strings\n",
    "import csv\n",
    "fname=input(\"Enter csv file name with extention csv : \")\n",
    "f1=open(fname,\"r\")\n",
    "reader=csv.reader(f1)\n",
    "for row in reader:\n",
    "    print(row)\n",
    "f1.close()\n"
   ]
  },
  {
   "cell_type": "code",
   "execution_count": 5,
   "id": "2cb12eba",
   "metadata": {},
   "outputs": [
    {
     "name": "stdout",
     "output_type": "stream",
     "text": [
      "Enter the new file name(extention csv): mca.csv\n",
      "Enter number of dept: 2\n",
      "Enter coma seperated deptId,DeptName,TE,Location : 1,sales,10,kozhikode\n",
      "Enter coma seperated deptId,DeptName,TE,Location : 2,purcharse,20,kannur\n",
      "DepartmentId Department\n",
      "1            sales\n",
      "2            purcharse\n"
     ]
    }
   ],
   "source": [
    "#7Create a dept csv file-Deptid,Deptname,Totalemployees,location.Read specific columns-Deptid,Deptname \n",
    "#of csv file and print content of columns\n",
    "import csv\n",
    "file1=input(\"Enter the new file name(extention csv): \")\n",
    "with open(file1,\"a+\",newline='')as f1:\n",
    "    empdata=[\"DeptId\",\"DeptName\",\"TE\",\"Location\"]\n",
    "    l=[]\n",
    "    writer=csv.DictWriter(f1,fieldnames=empdata)\n",
    "    writer.writeheader()\n",
    "    n=int(input(\"Enter number of dept: \"))\n",
    "    for i in range(n):\n",
    "        l=list(input(\"Enter coma seperated deptId,DeptName,TE,Location : \").split(\",\"))\n",
    "        writer.writerow({'DeptId':l[0],'DeptName':l[1],'TE':l[2],'Location':l[3]})\n",
    "        l.clear()\n",
    "print(\"DepartmentId Department\")\n",
    "with open(file1,'r') as f2:\n",
    "    rdr=csv.DictReader(f2)\n",
    "    for item in rdr:\n",
    "        print(item[\"DeptId\"],\"          \",item[\"DeptName\"])"
   ]
  },
  {
   "cell_type": "code",
   "execution_count": null,
   "id": "8b8fe716",
   "metadata": {},
   "outputs": [],
   "source": []
  },
  {
   "cell_type": "code",
   "execution_count": null,
   "id": "70def11a",
   "metadata": {},
   "outputs": [],
   "source": []
  }
 ],
 "metadata": {
  "kernelspec": {
   "display_name": "Python 3 (ipykernel)",
   "language": "python",
   "name": "python3"
  },
  "language_info": {
   "codemirror_mode": {
    "name": "ipython",
    "version": 3
   },
   "file_extension": ".py",
   "mimetype": "text/x-python",
   "name": "python",
   "nbconvert_exporter": "python",
   "pygments_lexer": "ipython3",
   "version": "3.7.11"
  }
 },
 "nbformat": 4,
 "nbformat_minor": 5
}
