{
 "cells": [
  {
   "cell_type": "code",
   "execution_count": null,
   "id": "00f305fd",
   "metadata": {},
   "outputs": [],
   "source": []
  },
  {
   "cell_type": "code",
   "execution_count": 13,
   "id": "34ce23ec",
   "metadata": {},
   "outputs": [
    {
     "name": "stdout",
     "output_type": "stream",
     "text": [
      "First Number :4\n",
      "First Number :d\n",
      " Error Ocuured\n"
     ]
    }
   ],
   "source": [
    "#write program to handle zerodivisionerror,valueerror\n",
    "try:\n",
    "    a=int(input(\"First Number :\"))\n",
    "    b=int(input(\"First Number :\"))\n",
    "    result=a/b\n",
    "    print(\"Result=\",result)\n",
    "except(ZeroDivisionError,ValueError):\n",
    "    print(\" Error Ocuured\")"
   ]
  },
  {
   "cell_type": "code",
   "execution_count": 18,
   "id": "9eac82f1",
   "metadata": {},
   "outputs": [
    {
     "name": "stdout",
     "output_type": "stream",
     "text": [
      "Enter a number :5\n",
      "This value too small\n",
      "Enter a number :15\n",
      "The value too large\n",
      "Enter a number :10\n",
      "You Guessed it right\n"
     ]
    }
   ],
   "source": [
    "class Error(Exception):\n",
    "    'Base Class for other exception'\n",
    "    pass\n",
    "class ValueTooSmallError(Error):\n",
    "    pass\n",
    "class ValueTooLargeError(Error):\n",
    "    pass\n",
    "num=10\n",
    "while True:\n",
    "    try:\n",
    "        in_num=int(input(\"Enter a number :\"))\n",
    "        if in_num<num:\n",
    "            raise ValueTooSmallError\n",
    "        elif in_num>num:\n",
    "            raise ValueTooLargeError\n",
    "        break\n",
    "    except ValueTooSmallError:\n",
    "        print(\"This value too small\")\n",
    "    except ValueTooLargeError:\n",
    "        print(\"The value too large\")\n",
    "print(\"You Guessed it right\")\n",
    "            "
   ]
  },
  {
   "cell_type": "code",
   "execution_count": null,
   "id": "9c15a238",
   "metadata": {},
   "outputs": [],
   "source": []
  },
  {
   "cell_type": "code",
   "execution_count": null,
   "id": "f3858b00",
   "metadata": {},
   "outputs": [],
   "source": []
  }
 ],
 "metadata": {
  "kernelspec": {
   "display_name": "Python 3 (ipykernel)",
   "language": "python",
   "name": "python3"
  },
  "language_info": {
   "codemirror_mode": {
    "name": "ipython",
    "version": 3
   },
   "file_extension": ".py",
   "mimetype": "text/x-python",
   "name": "python",
   "nbconvert_exporter": "python",
   "pygments_lexer": "ipython3",
   "version": "3.7.11"
  }
 },
 "nbformat": 4,
 "nbformat_minor": 5
}
