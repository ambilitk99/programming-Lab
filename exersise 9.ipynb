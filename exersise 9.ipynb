{
 "cells": [
  {
   "cell_type": "code",
   "execution_count": 2,
   "id": "7a9793ed",
   "metadata": {},
   "outputs": [
    {
     "name": "stdout",
     "output_type": "stream",
     "text": [
      "\n",
      "1.Square\n",
      "2.Rectangle\n",
      "3.Triangle\n",
      "4.Exit\n",
      "Enter your option:1\n",
      "Enter the length of Square:4\n",
      "Area of Square is : 16\n",
      "\n",
      "1.Square\n",
      "2.Rectangle\n",
      "3.Triangle\n",
      "4.Exit\n",
      "Enter your option:2\n",
      "Enter the length of Rectangle:4\n",
      "Enter the bredth of Rectangle:2\n",
      "Area of Rectangle is : 8\n",
      "\n",
      "1.Square\n",
      "2.Rectangle\n",
      "3.Triangle\n",
      "4.Exit\n",
      "Enter your option:3\n",
      "Enter the base of Triangle:4\n",
      "Enter the height of Triangle:2\n",
      "Area of Rectangle is : 4.0\n",
      "\n",
      "1.Square\n",
      "2.Rectangle\n",
      "3.Triangle\n",
      "4.Exit\n",
      "Enter your option:4\n",
      "Existing......!\n"
     ]
    }
   ],
   "source": [
    "# find area of square,rectangle and triangle using lamda function\n",
    "sarea=lambda a:a*a\n",
    "rectarea=lambda a,b:a*b\n",
    "triarea=lambda b,h:(b*h)/2\n",
    "while(1):\n",
    "    print(\"\\n1.Square\\n2.Rectangle\\n3.Triangle\\n4.Exit\")\n",
    "    c=int(input(\"Enter your option:\"))\n",
    "    if c==1:\n",
    "        a=int(input(\"Enter the length of Square:\"))\n",
    "        print(\"Area of Square is :\",sarea(a))\n",
    "    elif c==2:\n",
    "        a=int(input(\"Enter the length of Rectangle:\"))\n",
    "        b=int(input(\"Enter the bredth of Rectangle:\"))\n",
    "        print(\"Area of Rectangle is :\",rectarea(a,b))\n",
    "    elif c==3:\n",
    "        b=int(input(\"Enter the base of Triangle:\"))\n",
    "        h=int(input(\"Enter the height of Triangle:\"))\n",
    "        print(\"Area of Rectangle is :\",triarea(b,h))\n",
    "    else:\n",
    "        print(\"Existing......!\")\n",
    "        break"
   ]
  },
  {
   "cell_type": "code",
   "execution_count": 11,
   "id": "ee074987",
   "metadata": {},
   "outputs": [
    {
     "name": "stdout",
     "output_type": "stream",
     "text": [
      "Enter 4 digits lower range:1000\n",
      "Enter 4 digits upper range:9000\n",
      "List= [4624, 6084, 6400, 8464]\n"
     ]
    }
   ],
   "source": [
    "#genersteba list of four numbers in a range with all their digits even,the number is a perfect square.\n",
    "import math\n",
    "n1=int(input(\"Enter 4 digits lower range:\"))\n",
    "n2=int(input(\"Enter 4 digits upper range:\"))\n",
    "l=[]\n",
    "x=0\n",
    "for i in range(n1,n2):\n",
    "    x=i\n",
    "    while(x!=0):\n",
    "        k1=x%10\n",
    "        x=int(x/10)\n",
    "        k2=x%10\n",
    "        x=int(x/10)\n",
    "        k3=x%10\n",
    "        x=int(x/10)\n",
    "        k4=x%10\n",
    "        x=int(x/10)\n",
    "        sq=int(math.sqrt(i))\n",
    "        if sq*sq==i:\n",
    "            if k1%2==0 and k2%2==0 and k3%2==0 and k4%2==0:\n",
    "                l.append(i)\n",
    "print(\"List=\",l)"
   ]
  },
  {
   "cell_type": "code",
   "execution_count": 9,
   "id": "6b67d637",
   "metadata": {},
   "outputs": [
    {
     "name": "stdout",
     "output_type": "stream",
     "text": [
      "Enter a word :welcome\n",
      "The new word is : welcomeing\n"
     ]
    }
   ],
   "source": [
    "#add 'ing' at the end of a given string.if it alreadyends with 'ing'then add 'ly'\n",
    "w=input(\"Enter a word :\")\n",
    "str1=w[-3:]\n",
    "if str1=='ing':\n",
    "    w=w+'ly'\n",
    "else:\n",
    "    w=w+'ing'\n",
    "print(\"The new word is :\",w)"
   ]
  },
  {
   "cell_type": "code",
   "execution_count": 10,
   "id": "97271e06",
   "metadata": {},
   "outputs": [
    {
     "name": "stdout",
     "output_type": "stream",
     "text": [
      "Enter a list of comma-seperted words:apple,orange,bus,car,computer\n",
      "Length of lonest word in the list is: 8\n"
     ]
    }
   ],
   "source": [
    "#Accept a list of words and return length of longest word.\n",
    "l=list(map(str,input(\"Enter a list of comma-seperted words:\").split(\",\")))\n",
    "w=[]\n",
    "for i in l:\n",
    "    w.append(len(i))\n",
    "print(\"Length of lonest word in the list is:\",max(w))"
   ]
  },
  {
   "cell_type": "code",
   "execution_count": null,
   "id": "2da033f2",
   "metadata": {},
   "outputs": [],
   "source": []
  }
 ],
 "metadata": {
  "kernelspec": {
   "display_name": "Python 3 (ipykernel)",
   "language": "python",
   "name": "python3"
  },
  "language_info": {
   "codemirror_mode": {
    "name": "ipython",
    "version": 3
   },
   "file_extension": ".py",
   "mimetype": "text/x-python",
   "name": "python",
   "nbconvert_exporter": "python",
   "pygments_lexer": "ipython3",
   "version": "3.7.11"
  }
 },
 "nbformat": 4,
 "nbformat_minor": 5
}
