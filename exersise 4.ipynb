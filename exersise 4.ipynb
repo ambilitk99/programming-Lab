{
 "cells": [
  {
   "cell_type": "code",
   "execution_count": 9,
   "metadata": {},
   "outputs": [
    {
     "name": "stdout",
     "output_type": "stream",
     "text": [
      "enter a string : python\n",
      "the new string is :  nythop\n"
     ]
    }
   ],
   "source": [
    "#change a string 1st ans last chars have been exchanged \n",
    "str=input(\"enter a string : \")\n",
    "l=len(str)\n",
    "n=str[l-1]+str[1:l-1]+str[-l]\n",
    "print(\"the new string is : \",n)\n"
   ]
  },
  {
   "cell_type": "code",
   "execution_count": 10,
   "metadata": {},
   "outputs": [
    {
     "name": "stdout",
     "output_type": "stream",
     "text": [
      "enter a string : python\n",
      "new string is : pyon\n"
     ]
    }
   ],
   "source": [
    "#program to get a string mode of first & last 2 chars from a given string\n",
    "str=input(\"enter a string : \")\n",
    "l=len(str)\n",
    "n=str[-l:2]+str[l-2:l]\n",
    "print(\"new string is :\",n)"
   ]
  },
  {
   "cell_type": "code",
   "execution_count": 20,
   "metadata": {},
   "outputs": [
    {
     "name": "stdout",
     "output_type": "stream",
     "text": [
      "enter a string : gello\n",
      "enter the second string : dert\n",
      "The new string is :  dello gert\n"
     ]
    }
   ],
   "source": [
    "#program to get a string from 2 given strings seperated by a space & swap the first two chars\n",
    "str=input(\"enter a string : \")\n",
    "str2=input(\"enter the second string : \")\n",
    "l=len(str)\n",
    "n=len(str2)\n",
    "m=str2[0:2]+str[2:]+\" \"+str[0:2]+str2[2:]\n",
    "print(\"The new string is : \",m)\n"
   ]
  },
  {
   "cell_type": "code",
   "execution_count": 8,
   "metadata": {},
   "outputs": [
    {
     "name": "stdout",
     "output_type": "stream",
     "text": [
      "enter a string :malayalam\n",
      "The new string is : malayala$\n"
     ]
    }
   ],
   "source": [
    "#program for change the first letter $,except the first chars itself\n",
    "string1=input(\"enter a string :\")\n",
    "s1=string1[0]\n",
    "s2=string1.replace(s1,'$')\n",
    "s3=s1+s2[1:]\n",
    "print(\"The new string is :\",s3)"
   ]
  },
  {
   "cell_type": "code",
   "execution_count": 4,
   "metadata": {},
   "outputs": [
    {
     "name": "stdout",
     "output_type": "stream",
     "text": [
      "enter a string : ambili\n",
      "new string is : mbil\n"
     ]
    }
   ],
   "source": [
    "str=input(\"enter a string : \")\n",
    "l=len(str)\n",
    "n=str[1:l-1]\n",
    "print(\"new string is :\",n)"
   ]
  },
  {
   "cell_type": "code",
   "execution_count": null,
   "metadata": {
    "collapsed": true
   },
   "outputs": [],
   "source": []
  }
 ],
 "metadata": {
  "kernelspec": {
   "display_name": "Python 3",
   "language": "python",
   "name": "python3"
  },
  "language_info": {
   "codemirror_mode": {
    "name": "ipython",
    "version": 3
   },
   "file_extension": ".py",
   "mimetype": "text/x-python",
   "name": "python",
   "nbconvert_exporter": "python",
   "pygments_lexer": "ipython3",
   "version": "3.6.3"
  }
 },
 "nbformat": 4,
 "nbformat_minor": 2
}
