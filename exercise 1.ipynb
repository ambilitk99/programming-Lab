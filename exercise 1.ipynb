{
 "cells": [
  {
   "cell_type": "code",
   "execution_count": 5,
   "metadata": {},
   "outputs": [
    {
     "name": "stdout",
     "output_type": "stream",
     "text": [
      "enter the side length of square:2\n",
      "area= 4\n"
     ]
    }
   ],
   "source": [
    "#find the area of circle\n",
    "n=int(input(\"enter the side length of square:\"))\n",
    "area=n*n\n",
    "print(\"area=\",area)"
   ]
  },
  {
   "cell_type": "code",
   "execution_count": 10,
   "metadata": {},
   "outputs": [
    {
     "name": "stdout",
     "output_type": "stream",
     "text": [
      "enter the base2\n",
      "enter the height4\n",
      "area of right angle trangle is: 4.0\n"
     ]
    }
   ],
   "source": [
    "#find the area of rectangle\n",
    "b=int(input(\"enter the base\"))\n",
    "h=int(input(\"enter the height\"))\n",
    "area=(b*h)/2\n",
    "print(\"area of right angle trangle is:\",area)"
   ]
  },
  {
   "cell_type": "code",
   "execution_count": 12,
   "metadata": {},
   "outputs": [
    {
     "name": "stdout",
     "output_type": "stream",
     "text": [
      "enter your name:ambili\n",
      "hello,ambili!\n"
     ]
    }
   ],
   "source": [
    "#print hello and name\n",
    "name=input(\"enter your name:\")\n",
    "print(\"hello,\"+name+'!')"
   ]
  },
  {
   "cell_type": "code",
   "execution_count": 1,
   "metadata": {},
   "outputs": [
    {
     "name": "stdout",
     "output_type": "stream",
     "text": [
      "enter a number3\n",
      "2 3 4\n"
     ]
    }
   ],
   "source": [
    "#print previous and next number\n",
    "n=int(input(\"enter a number\"))\n",
    "print(n-1,n,n+1)"
   ]
  },
  {
   "cell_type": "code",
   "execution_count": 5,
   "metadata": {},
   "outputs": [
    {
     "name": "stdout",
     "output_type": "stream",
     "text": [
      "enter principle amount3000\n",
      "enter the time period2\n",
      "enter rate of interest5\n",
      "the simple interest is 300.0\n"
     ]
    }
   ],
   "source": [
    "#find the simple interest\n",
    "p=int(input(\"enter principle amount\"))\n",
    "n=int(input(\"enter the time period\"))\n",
    "r=float(input(\"enter rate of interest\"))\n",
    "si=(p*n*r)/100\n",
    "print(\"the simple interest is\",si)"
   ]
  },
  {
   "cell_type": "code",
   "execution_count": null,
   "metadata": {
    "collapsed": true
   },
   "outputs": [],
   "source": []
  }
 ],
 "metadata": {
  "kernelspec": {
   "display_name": "Python 3",
   "language": "python",
   "name": "python3"
  },
  "language_info": {
   "codemirror_mode": {
    "name": "ipython",
    "version": 3
   },
   "file_extension": ".py",
   "mimetype": "text/x-python",
   "name": "python",
   "nbconvert_exporter": "python",
   "pygments_lexer": "ipython3",
   "version": "3.6.3"
  }
 },
 "nbformat": 4,
 "nbformat_minor": 2
}
