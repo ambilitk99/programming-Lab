{
 "cells": [
  {
   "cell_type": "code",
   "execution_count": 5,
   "metadata": {},
   "outputs": [
    {
     "name": "stdout",
     "output_type": "stream",
     "text": [
      "enter the comma-seperated numbers :1,2,3,4,5\n",
      "the list of numbers are : ['1', '2', '3', '4', '5']\n"
     ]
    }
   ],
   "source": [
    "#program of sequence of  comma seperated numbers & generate a list\n",
    "n=input(\"enter the comma-seperated numbers :\")\n",
    "list=n.split(\",\")\n",
    "print(\"the list of numbers are :\",list)"
   ]
  },
  {
   "cell_type": "code",
   "execution_count": 9,
   "metadata": {},
   "outputs": [
    {
     "name": "stdout",
     "output_type": "stream",
     "text": [
      "enter the comma seperated color name :red,green,blue,black\n",
      "The first color in : red\n",
      "The last color is : black\n"
     ]
    }
   ],
   "source": [
    "#comma seperated color names\n",
    "a=input(\"enter the comma seperated color name :\")\n",
    "list=a.split(\",\")\n",
    "print(\"The first color in :\",list[0])\n",
    "print(\"The last color is :\",list[-1])"
   ]
  },
  {
   "cell_type": "code",
   "execution_count": 10,
   "metadata": {},
   "outputs": [
    {
     "name": "stdout",
     "output_type": "stream",
     "text": [
      "enter the file name:abcd.java\n",
      "extension of file : java\n"
     ]
    }
   ],
   "source": [
    "#program ofr accept filename from user print extension\n",
    "f=input(\"enter the file name:\")\n",
    "extension=f.split('.')\n",
    "print(\"extension of file :\",extension[-1])"
   ]
  },
  {
   "cell_type": "code",
   "execution_count": null,
   "metadata": {
    "collapsed": true
   },
   "outputs": [],
   "source": []
  }
 ],
 "metadata": {
  "kernelspec": {
   "display_name": "Python 3",
   "language": "python",
   "name": "python3"
  },
  "language_info": {
   "codemirror_mode": {
    "name": "ipython",
    "version": 3
   },
   "file_extension": ".py",
   "mimetype": "text/x-python",
   "name": "python",
   "nbconvert_exporter": "python",
   "pygments_lexer": "ipython3",
   "version": "3.6.3"
  }
 },
 "nbformat": 4,
 "nbformat_minor": 2
}
