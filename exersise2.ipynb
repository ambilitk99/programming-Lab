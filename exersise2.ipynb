{
 "cells": [
  {
   "cell_type": "code",
   "execution_count": 4,
   "metadata": {},
   "outputs": [
    {
     "name": "stdout",
     "output_type": "stream",
     "text": [
      "enter the radius of circle2\n",
      "the area of circle is 12.566370614359172\n"
     ]
    }
   ],
   "source": [
    "#find the area of the circle\n",
    "import math\n",
    "r=int(input(\"enter the radius of circle\"))\n",
    "area=math.pi*r*r\n",
    "print(\"the area of circle is\",area)"
   ]
  },
  {
   "cell_type": "code",
   "execution_count": 1,
   "metadata": {},
   "outputs": [
    {
     "name": "stdout",
     "output_type": "stream",
     "text": [
      "enter a number3\n",
      "the value is 369\n"
     ]
    }
   ],
   "source": [
    "n=int(input(\"enter a number\"))\n",
    "cd=str(n)\n",
    "t1=cd+cd\n",
    "t2=cd+cd+cd\n",
    "sum=n+int(t1)+int(t2)\n",
    "print(\"the value is\",sum)"
   ]
  },
  {
   "cell_type": "code",
   "execution_count": null,
   "metadata": {
    "collapsed": true
   },
   "outputs": [],
   "source": []
  }
 ],
 "metadata": {
  "kernelspec": {
   "display_name": "Python 3",
   "language": "python",
   "name": "python3"
  },
  "language_info": {
   "codemirror_mode": {
    "name": "ipython",
    "version": 3
   },
   "file_extension": ".py",
   "mimetype": "text/x-python",
   "name": "python",
   "nbconvert_exporter": "python",
   "pygments_lexer": "ipython3",
   "version": "3.6.3"
  }
 },
 "nbformat": 4,
 "nbformat_minor": 2
}
