{
 "cells": [
  {
   "cell_type": "code",
   "execution_count": 3,
   "metadata": {},
   "outputs": [
    {
     "name": "stdout",
     "output_type": "stream",
     "text": [
      "enter some comma seperated integers:1,4,6,8,5,9\n",
      "The required list of odd elements is :  [1, 5, 9]\n"
     ]
    }
   ],
   "source": [
    "#seperate  odd integers from list of integers\n",
    "#removing even numbers\n",
    "l=list(map(int,input(\"Enter some comma seperated integers : \").split(\",\")))\n",
    "r=[x for x in l if(x%2!=0)]\n",
    "print(\"The required list of odd elements is : \",r)"
   ]
  },
  {
   "cell_type": "code",
   "execution_count": 11,
   "metadata": {},
   "outputs": [
    {
     "name": "stdout",
     "output_type": "stream",
     "text": [
      "Enter some comma seperated integers frpm list 1 : 1,2,3\n",
      "Enter some comma seperated integers frpm list 2 :1,2,3\n",
      "Both the lists have same length and the lentgh is :  3\n",
      "Both the lists are same sum and sum is :  6\n",
      "Same members are :  [1, 2, 3]\n"
     ]
    }
   ],
   "source": [
    "#4 some list operations\n",
    "l1=list(map(int,input(\"Enter some comma seperated integers frpm list 1 : \").split(\",\")))\n",
    "l2=list(map(int,input(\"Enter some comma seperated integers frpm list 2 :\").split(\",\")))\n",
    "if(len(l1)!=len(l2)):\n",
    "\n",
    "    print(\"The entered lists are different size : \")\n",
    "else:\n",
    "   print(\"Both the lists have same length and the lentgh is : \",len(l1))\n",
    "if(sum(l1)==sum(l2)):\n",
    "   print(\"Both the lists are same sum and sum is : \",sum(l1))\n",
    "else:\n",
    "   print(\"Both the list have different sum of elements......\")\n",
    "k=[i for i in l1 if i in l2]\n",
    "if len(k)!=0:\n",
    "   print(\"Same members are : \",k)\n",
    "else:\n",
    "   print(\"Nothing common in both lists \" )\n",
    "                                                                                  "
   ]
  },
  {
   "cell_type": "code",
   "execution_count": null,
   "metadata": {
    "collapsed": true
   },
   "outputs": [],
   "source": []
  }
 ],
 "metadata": {
  "kernelspec": {
   "display_name": "Python 3",
   "language": "python",
   "name": "python3"
  },
  "language_info": {
   "codemirror_mode": {
    "name": "ipython",
    "version": 3
   },
   "file_extension": ".py",
   "mimetype": "text/x-python",
   "name": "python",
   "nbconvert_exporter": "python",
   "pygments_lexer": "ipython3",
   "version": "3.6.3"
  }
 },
 "nbformat": 4,
 "nbformat_minor": 2
}
