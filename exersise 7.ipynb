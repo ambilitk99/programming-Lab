{
 "cells": [
  {
   "cell_type": "code",
   "execution_count": 6,
   "metadata": {},
   "outputs": [
    {
     "name": "stdout",
     "output_type": "stream",
     "text": [
      "enter tge list of numbers :1,2,3,4,-1,-2,-3\n",
      "The postive numbers are : [1, 2, 3, 4]\n"
     ]
    }
   ],
   "source": [
    "#program for postive list of numbers\n",
    "l=list(map(int,input(\"enter the list of numbers :\").split(\",\")))\n",
    "newlist=[x for x in l if x>0]\n",
    "print(\"The postive numbers are :\",newlist)"
   ]
  },
  {
   "cell_type": "code",
   "execution_count": 9,
   "metadata": {},
   "outputs": [
    {
     "name": "stdout",
     "output_type": "stream",
     "text": [
      "enter the list of numbers :2,3,4\n",
      "Square of numbers is : [4, 9, 16]\n"
     ]
    }
   ],
   "source": [
    "#square of N numbers\n",
    "l=list(map(int,input(\"enter the list of numbers :\").split(\",\")))\n",
    "newlist=[x*x for x in l]\n",
    "print(\"Square of numbers is :\",newlist)\n",
    "\n"
   ]
  },
  {
   "cell_type": "code",
   "execution_count": 5,
   "metadata": {},
   "outputs": [
    {
     "name": "stdout",
     "output_type": "stream",
     "text": [
      "Enter any word : malayalam\n",
      "Vowels prsent in given word is : ['a']\n"
     ]
    }
   ],
   "source": [
    "#program for selecting vowels from a word\n",
    "word=input(\"Enter any word : \")\n",
    "vowels=['a','e','i','o','u']\n",
    "list1=[]\n",
    "for x in word:\n",
    "    if(x in vowels and x not in list1):\n",
    "        list1.append(x)\n",
    "print(\"Vowels prsent in given word is :\",list1)"
   ]
  },
  {
   "cell_type": "code",
   "execution_count": 9,
   "metadata": {},
   "outputs": [
    {
     "name": "stdout",
     "output_type": "stream",
     "text": [
      "Enter a word : python\n",
      "['p', 'y', 't', 'h', 'o', 'n']\n",
      "The  ordinal value of a word is :  [112, 121, 116, 104, 111, 110]\n"
     ]
    }
   ],
   "source": [
    "#list of ordinal value of each element of integers\n",
    "word=input(\"Enter a word : \")\n",
    "l=list(word)\n",
    "print(l)\n",
    "o=[ord(x) for x in l]\n",
    "print(\"The  ordinal value of a word is : \",o)"
   ]
  },
  {
   "cell_type": "code",
   "execution_count": 20,
   "metadata": {},
   "outputs": [
    {
     "name": "stdout",
     "output_type": "stream",
     "text": [
      "Enter some comma seperated integers : 100,200,300,400,45,98,90\n",
      "The list is :  [100, 'over', 'over', 'over', 45, 98, 90]\n"
     ]
    }
   ],
   "source": [
    "#>100 to over\n",
    "l=list(map(int,input(\"Enter some comma seperated integers : \").split(\",\")))\n",
    "for i in range(len(l)):\n",
    "    if l[i]>100:\n",
    "        l[i]=\"over\"\n",
    "print(\"The list is : \",l)        \n"
   ]
  },
  {
   "cell_type": "code",
   "execution_count": 22,
   "metadata": {},
   "outputs": [
    {
     "name": "stdout",
     "output_type": "stream",
     "text": [
      "enter the comma seperated names : fathima,ambili\n",
      "Number of A occurance in fathima is :  2\n",
      "Number of A occurance in ambili is :  1\n",
      "Total no.of A in list is :  3\n"
     ]
    }
   ],
   "source": [
    "#enter a list of names and count occurance of a\n",
    "name=input(\"enter the comma seperated names : \")\n",
    "l=name.split(\",\")\n",
    "t=0\n",
    "for i in l:\n",
    "    print(\"Number of A occurance in\",i,\"is : \",i.count(\"a\"))\n",
    "    t=t+i.count(\"a\")\n",
    "print(\"Total no.of A in list is : \",t)"
   ]
  },
  {
   "cell_type": "code",
   "execution_count": null,
   "metadata": {
    "collapsed": true
   },
   "outputs": [],
   "source": []
  }
 ],
 "metadata": {
  "kernelspec": {
   "display_name": "Python 3",
   "language": "python",
   "name": "python3"
  },
  "language_info": {
   "codemirror_mode": {
    "name": "ipython",
    "version": 3
   },
   "file_extension": ".py",
   "mimetype": "text/x-python",
   "name": "python",
   "nbconvert_exporter": "python",
   "pygments_lexer": "ipython3",
   "version": "3.6.3"
  }
 },
 "nbformat": 4,
 "nbformat_minor": 2
}
