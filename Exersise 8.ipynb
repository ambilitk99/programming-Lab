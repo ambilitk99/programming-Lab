{
 "cells": [
  {
   "cell_type": "code",
   "execution_count": 1,
   "id": "e925c525",
   "metadata": {},
   "outputs": [
    {
     "name": "stdout",
     "output_type": "stream",
     "text": [
      "Enter num 1:4\n",
      "Enter num 2:2\n",
      "Enter num 3:6\n",
      "The numbers are unequal and sum = 12\n"
     ]
    }
   ],
   "source": [
    "#numbers are equal find trice else find sum\n",
    "def sum(a,b,c):\n",
    "    if(a==b==c):\n",
    "        s=3*(a+b+c)\n",
    "        print(\"The numbers are equal and there sum =\",s)\n",
    "    else:\n",
    "        s=a+b+c\n",
    "        print(\"The numbers are unequal and sum =\",s)\n",
    "a=int(input(\"Enter num 1:\"))\n",
    "b=int(input(\"Enter num 2:\"))\n",
    "c=int(input(\"Enter num 3:\"))\n",
    "sum(a,b,c);"
   ]
  },
  {
   "cell_type": "code",
   "execution_count": 2,
   "id": "a43815b8",
   "metadata": {},
   "outputs": [
    {
     "name": "stdout",
     "output_type": "stream",
     "text": [
      "Enter a number  : 123\n",
      "Sum of digits =  6\n"
     ]
    }
   ],
   "source": [
    "#find sum of digits of a number\n",
    "def sum(n):\n",
    "    sum=0\n",
    "    while(n!=0):\n",
    "        sum=sum+int(n%10)\n",
    "        n=n/10\n",
    "    print(\"Sum of digits = \",sum)\n",
    "num=int(input(\"Enter a number  : \"))\n",
    "sum(num);"
   ]
  },
  {
   "cell_type": "code",
   "execution_count": 3,
   "id": "08d9985f",
   "metadata": {},
   "outputs": [
    {
     "name": "stdout",
     "output_type": "stream",
     "text": [
      "Enter a string : AmBiLi T K\n",
      "Uppercase letters = 5\n",
      "Lowercase letters = 3\n"
     ]
    }
   ],
   "source": [
    "#upper case lettrs and lower case letters\n",
    "def case(w):\n",
    "    u=l=0\n",
    "    for i in w:\n",
    "        if i.isupper()==1:\n",
    "            u=u+1\n",
    "        if i.islower()==1:\n",
    "            l=l+1\n",
    "    print(\"Uppercase letters =\",u)\n",
    "    print(\"Lowercase letters =\",l)\n",
    "s=input(\"Enter a string : \")\n",
    "case(s);"
   ]
  },
  {
   "cell_type": "code",
   "execution_count": 4,
   "id": "cd3c4076",
   "metadata": {},
   "outputs": [
    {
     "name": "stdout",
     "output_type": "stream",
     "text": [
      "Enter a number : 7\n",
      "7 is a prime number\n"
     ]
    }
   ],
   "source": [
    "#function to check whether prime or not\n",
    "def prime(n):\n",
    "    if n>1:\n",
    "        for i in range(2,int(n/2)+1):\n",
    "            if(n%i)==0:\n",
    "                print(n,\"is not a prime number\")\n",
    "                break\n",
    "        else:\n",
    "            print(n,\"is a prime number\")\n",
    "    else:\n",
    "        print(n,\"is not a prime number\")\n",
    "num=int(input(\"Enter a number : \"))\n",
    "prime(num);"
   ]
  },
  {
   "cell_type": "code",
   "execution_count": 6,
   "id": "347d45d3",
   "metadata": {},
   "outputs": [
    {
     "name": "stdout",
     "output_type": "stream",
     "text": [
      "Enter a year 1  : 2020\n",
      "Enter a year 2 : 2030\n",
      "2020\n",
      "2024\n",
      "2028\n"
     ]
    }
   ],
   "source": [
    "def leapyears(year):\n",
    "    for y in range(num1,num2+1):\n",
    "        if y % 4 == 0 and (y % 100 != 0 or y % 400 == 0):\n",
    "            print( y)\n",
    "num1=int(input(\"Enter a year 1  : \"))\n",
    "num2=int(input(\"Enter a year 2 : \"))\n",
    "leapyears(num1);"
   ]
  },
  {
   "cell_type": "code",
   "execution_count": 7,
   "id": "e0be04ad",
   "metadata": {},
   "outputs": [
    {
     "name": "stdout",
     "output_type": "stream",
     "text": [
      "Enter the name : Anu\n",
      "Enter the salary : 0\n",
      "The name of Employee is :  Anu , and the salary is : 8000\n"
     ]
    }
   ],
   "source": [
    "#function definition which prints the details of an employeede and salary is missing display 8000 as salary\n",
    "def employee(name,salary=8000):\n",
    "     print(\"The name of Employee is : \",name,\",\",\"and the salary is :\",salary)\n",
    "\n",
    "name=str(input(\"Enter the name : \"))\n",
    "salary=int(input(\"Enter the salary : \"))\n",
    "if salary>0:\n",
    "    employee(name,salary)\n",
    "else:\n",
    "    employee(name)\n"
   ]
  },
  {
   "cell_type": "code",
   "execution_count": 8,
   "id": "9debfc8e",
   "metadata": {},
   "outputs": [
    {
     "name": "stdout",
     "output_type": "stream",
     "text": [
      "Enter the number of values:1,3,4,-4,-1\n",
      "Minimum of entered item of value is: -4\n"
     ]
    }
   ],
   "source": [
    "#find the minimum value\n",
    "def minvalue(*x):\n",
    "    print(\"Minimum of entered item of value is:\",min(x))\n",
    "n=list(map(int,input(\"Enter the number of values:\").split(\",\")))\n",
    "t=tuple(n)\n",
    "minvalue(*t)"
   ]
  },
  {
   "cell_type": "code",
   "execution_count": 9,
   "id": "1109972a",
   "metadata": {},
   "outputs": [
    {
     "name": "stdout",
     "output_type": "stream",
     "text": [
      "Enter number of persons :2\n",
      "Details for person : 1\n",
      "Enter the information you wish to provide:1\n",
      "Enter any type of info :name\n",
      "Enter its value:Anu\n",
      "{'name': 'Anu'}\n",
      "\n",
      "\n",
      "Details for person : 2\n",
      "Enter the information you wish to provide:2\n",
      "Enter any type of info :name\n",
      "Enter its value:manu\n",
      "Enter any type of info :age\n",
      "Enter its value:24\n",
      "{'name': 'manu', 'age': '24'}\n",
      "\n",
      "\n"
     ]
    }
   ],
   "source": [
    "#user info\n",
    "def uinfo(**d1):\n",
    "    print(d1)\n",
    "    d.clear()\n",
    "    print(\"\\n\")\n",
    "d={}\n",
    "n=int(input(\"Enter number of persons :\"))\n",
    "for i in range(n):\n",
    "    print(\"Details for person :\",i+1)\n",
    "    n2=int(input(\"Enter the information you wish to provide:\"))\n",
    "    for j in range(n2):\n",
    "        key=input(\"Enter any type of info :\")\n",
    "        val=input(\"Enter its value:\")\n",
    "        d.update({key:val})\n",
    "    uinfo(**d)"
   ]
  },
  {
   "cell_type": "code",
   "execution_count": null,
   "id": "e25768d7",
   "metadata": {},
   "outputs": [],
   "source": []
  }
 ],
 "metadata": {
  "kernelspec": {
   "display_name": "Python 3 (ipykernel)",
   "language": "python",
   "name": "python3"
  },
  "language_info": {
   "codemirror_mode": {
    "name": "ipython",
    "version": 3
   },
   "file_extension": ".py",
   "mimetype": "text/x-python",
   "name": "python",
   "nbconvert_exporter": "python",
   "pygments_lexer": "ipython3",
   "version": "3.7.11"
  }
 },
 "nbformat": 4,
 "nbformat_minor": 5
}
